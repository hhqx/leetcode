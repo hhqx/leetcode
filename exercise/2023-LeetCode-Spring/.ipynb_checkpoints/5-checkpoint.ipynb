{
 "cells": [
  {
   "cell_type": "markdown",
   "metadata": {},
   "source": [
    "示例1：\n",
    "输入：n = 3, m = 3, chessboard = [\"..R\",\"..B\",\"?R?\"]\n",
    "输出：5\n",
    "解释：给定的棋盘如图：\n",
    "![image1.png](https://pic.leetcode.cn/1681714583-unbRox-image.png)\n",
    "所有符合题意的最终局面如图：\n",
    "![image2.png](https://pic.leetcode.cn/1681714596-beaOHK-image.png)"
   ]
  },
  {
   "cell_type": "code",
   "execution_count": 5,
   "metadata": {},
   "outputs": [],
   "source": [
    "question_content = \"\"\"\n",
    "5. 魔法棋盘\n",
    "通过的用户数72\n",
    "尝试过的用户数169\n",
    "用户总通过次数76\n",
    "用户总提交次数451\n",
    "题目难度Hard\n",
    "在大小为 n * m 的棋盘中，有两种不同的棋子：黑色，红色。当两颗颜色不同的棋子同时满足以下两种情况时，将会产生魔法共鸣：\n",
    "\n",
    "两颗异色棋子在同一行或者同一列\n",
    "两颗异色棋子之间恰好只有一颗棋子\n",
    "由于棋盘上被施加了魔法禁制，棋盘上的部分格子变成问号。chessboard[i][j] 表示棋盘第 i 行 j 列的状态：\n",
    "\n",
    "若为 . ，表示当前格子确定为空\n",
    "若为 B ，表示当前格子确定为 黑棋\n",
    "若为 R ，表示当前格子确定为 红棋\n",
    "若为 ? ，表示当前格子待定\n",
    "现在，探险家小扣的任务是确定所有问号位置的状态（留空/放黑棋/放红棋），使最终的棋盘上，任意两颗棋子间都 无法 产生共鸣。请返回可以满足上述条件的放置方案数量。\n",
    "\n",
    "示例1：\n",
    "\n",
    "输入：n = 3, m = 3, chessboard = [\"..R\",\"..B\",\"?R?\"]\n",
    "\n",
    "输出：5\n",
    "\n",
    "解释：给定的棋盘如图：\n",
    "image.png\n",
    "所有符合题意的最终局面如图：\n",
    "image.png\n",
    "\n",
    "示例2：\n",
    "\n",
    "输入：n = 3, m = 3, chessboard = [\"?R?\",\"B?B\",\"?R?\"]\n",
    "\n",
    "输出：105\n",
    "\n",
    "提示：\n",
    "\n",
    "n == chessboard.length\n",
    "m == chessboard[i].length\n",
    "1 <= n*m <= 30\n",
    "chessboard 中仅包含 \".\"、\"B\"、\"R\"、\"?\"\n",
    "\"\"\"\n",
    "\n",
    "from typing import *\n",
    "from PythonLeetcodeRunner import *\n",
    "\n"
   ]
  },
  {
   "cell_type": "code",
   "execution_count": 7,
   "metadata": {
    "code_folding": []
   },
   "outputs": [
    {
     "data": {
      "text/html": [
       "<pre style=\"white-space:pre;overflow-x:auto;line-height:normal;font-family:Menlo,'DejaVu Sans Mono',consolas,'Courier New',monospace\">┏━━━━━━━━┳━━━━━━━━━━━━━━━━━━━━━━━━━━━━━━━━━━━┳━━━━━━━━┳━━━━━━━━━━┳━━━━━━━━━━━━━━┳━━━━━━━━━┓\n",
       "┃<span style=\"color: #800080; text-decoration-color: #800080; font-weight: bold\"> Name   </span>┃<span style=\"color: #800080; text-decoration-color: #800080; font-weight: bold\"> Your input                        </span>┃<span style=\"color: #800080; text-decoration-color: #800080; font-weight: bold\"> Output </span>┃<span style=\"color: #800080; text-decoration-color: #800080; font-weight: bold\"> Expected </span>┃<span style=\"color: #800080; text-decoration-color: #800080; font-weight: bold\"> Elapsed time </span>┃<span style=\"color: #800080; text-decoration-color: #800080; font-weight: bold\"> Status  </span>┃\n",
       "┡━━━━━━━━╇━━━━━━━━━━━━━━━━━━━━━━━━━━━━━━━━━━━╇━━━━━━━━╇━━━━━━━━━━╇━━━━━━━━━━━━━━╇━━━━━━━━━┩\n",
       "│<span style=\"color: #3eff33; text-decoration-color: #3eff33\"> Test 1 </span>│<span style=\"color: #3eff33; text-decoration-color: #3eff33\"> n: 3                              </span>│<span style=\"color: #3eff33; text-decoration-color: #3eff33\"> 5      </span>│<span style=\"color: #3eff33; text-decoration-color: #3eff33\"> 5        </span>│<span style=\"color: #3eff33; text-decoration-color: #3eff33; font-style: italic\">   0.002ms    </span>│<span style=\"color: #3eff33; text-decoration-color: #3eff33; font-weight: bold\"> Correct </span>│\n",
       "│<span style=\"color: #3eff33; text-decoration-color: #3eff33\">        </span>│<span style=\"color: #3eff33; text-decoration-color: #3eff33\"> m: 3                              </span>│<span style=\"color: #3eff33; text-decoration-color: #3eff33\">        </span>│<span style=\"color: #3eff33; text-decoration-color: #3eff33\">          </span>│<span style=\"color: #3eff33; text-decoration-color: #3eff33; font-style: italic\">              </span>│<span style=\"color: #3eff33; text-decoration-color: #3eff33; font-weight: bold\">         </span>│\n",
       "│<span style=\"color: #3eff33; text-decoration-color: #3eff33\">        </span>│<span style=\"color: #3eff33; text-decoration-color: #3eff33\"> chessboard: ['..R', '..B', '?R?'] </span>│<span style=\"color: #3eff33; text-decoration-color: #3eff33\">        </span>│<span style=\"color: #3eff33; text-decoration-color: #3eff33\">          </span>│<span style=\"color: #3eff33; text-decoration-color: #3eff33; font-style: italic\">              </span>│<span style=\"color: #3eff33; text-decoration-color: #3eff33; font-weight: bold\">         </span>│\n",
       "│<span style=\"color: #800000; text-decoration-color: #800000; font-weight: bold; text-decoration: underline\"> Test 2 </span>│<span style=\"color: #800000; text-decoration-color: #800000; font-weight: bold; text-decoration: underline\"> n: 3                              </span>│<span style=\"color: #800000; text-decoration-color: #800000; font-weight: bold; text-decoration: underline\"> 5      </span>│<span style=\"color: #800000; text-decoration-color: #800000; font-weight: bold; text-decoration: underline\"> 105      </span>│<span style=\"color: #800000; text-decoration-color: #800000; font-weight: bold; font-style: italic; text-decoration: underline\">   0.001ms    </span>│<span style=\"color: #800000; text-decoration-color: #800000; font-weight: bold; text-decoration: underline\">  Wrong  </span>│\n",
       "│<span style=\"color: #800000; text-decoration-color: #800000; font-weight: bold; text-decoration: underline\">        </span>│<span style=\"color: #800000; text-decoration-color: #800000; font-weight: bold; text-decoration: underline\"> m: 3                              </span>│<span style=\"color: #800000; text-decoration-color: #800000; font-weight: bold; text-decoration: underline\">        </span>│<span style=\"color: #800000; text-decoration-color: #800000; font-weight: bold; text-decoration: underline\">          </span>│<span style=\"color: #800000; text-decoration-color: #800000; font-weight: bold; font-style: italic; text-decoration: underline\">              </span>│<span style=\"color: #800000; text-decoration-color: #800000; font-weight: bold; text-decoration: underline\">         </span>│\n",
       "│<span style=\"color: #800000; text-decoration-color: #800000; font-weight: bold; text-decoration: underline\">        </span>│<span style=\"color: #800000; text-decoration-color: #800000; font-weight: bold; text-decoration: underline\"> chessboard: ['?R?', 'B?B', '?R?'] </span>│<span style=\"color: #800000; text-decoration-color: #800000; font-weight: bold; text-decoration: underline\">        </span>│<span style=\"color: #800000; text-decoration-color: #800000; font-weight: bold; text-decoration: underline\">          </span>│<span style=\"color: #800000; text-decoration-color: #800000; font-weight: bold; font-style: italic; text-decoration: underline\">              </span>│<span style=\"color: #800000; text-decoration-color: #800000; font-weight: bold; text-decoration: underline\">         </span>│\n",
       "└────────┴───────────────────────────────────┴────────┴──────────┴──────────────┴─────────┘\n",
       "</pre>\n"
      ],
      "text/plain": [
       "┏━━━━━━━━┳━━━━━━━━━━━━━━━━━━━━━━━━━━━━━━━━━━━┳━━━━━━━━┳━━━━━━━━━━┳━━━━━━━━━━━━━━┳━━━━━━━━━┓\n",
       "┃\u001b[1;35m \u001b[0m\u001b[1;35mName  \u001b[0m\u001b[1;35m \u001b[0m┃\u001b[1;35m \u001b[0m\u001b[1;35mYour input                       \u001b[0m\u001b[1;35m \u001b[0m┃\u001b[1;35m \u001b[0m\u001b[1;35mOutput\u001b[0m\u001b[1;35m \u001b[0m┃\u001b[1;35m \u001b[0m\u001b[1;35mExpected\u001b[0m\u001b[1;35m \u001b[0m┃\u001b[1;35m \u001b[0m\u001b[1;35mElapsed time\u001b[0m\u001b[1;35m \u001b[0m┃\u001b[1;35m \u001b[0m\u001b[1;35mStatus \u001b[0m\u001b[1;35m \u001b[0m┃\n",
       "┡━━━━━━━━╇━━━━━━━━━━━━━━━━━━━━━━━━━━━━━━━━━━━╇━━━━━━━━╇━━━━━━━━━━╇━━━━━━━━━━━━━━╇━━━━━━━━━┩\n",
       "│\u001b[38;2;62;255;51m \u001b[0m\u001b[38;2;62;255;51mTest 1\u001b[0m\u001b[38;2;62;255;51m \u001b[0m│\u001b[38;2;62;255;51m \u001b[0m\u001b[38;2;62;255;51mn: 3                             \u001b[0m\u001b[38;2;62;255;51m \u001b[0m│\u001b[38;2;62;255;51m \u001b[0m\u001b[38;2;62;255;51m5     \u001b[0m\u001b[38;2;62;255;51m \u001b[0m│\u001b[38;2;62;255;51m \u001b[0m\u001b[38;2;62;255;51m5       \u001b[0m\u001b[38;2;62;255;51m \u001b[0m│\u001b[3;38;2;62;255;51m \u001b[0m\u001b[3;38;2;62;255;51m  0.002ms   \u001b[0m\u001b[3;38;2;62;255;51m \u001b[0m│\u001b[1;38;2;62;255;51m \u001b[0m\u001b[1;38;2;62;255;51mCorrect\u001b[0m\u001b[1;38;2;62;255;51m \u001b[0m│\n",
       "│\u001b[38;2;62;255;51m        \u001b[0m│\u001b[38;2;62;255;51m \u001b[0m\u001b[38;2;62;255;51mm: 3                             \u001b[0m\u001b[38;2;62;255;51m \u001b[0m│\u001b[38;2;62;255;51m        \u001b[0m│\u001b[38;2;62;255;51m          \u001b[0m│\u001b[3;38;2;62;255;51m              \u001b[0m│\u001b[1;38;2;62;255;51m         \u001b[0m│\n",
       "│\u001b[38;2;62;255;51m        \u001b[0m│\u001b[38;2;62;255;51m \u001b[0m\u001b[38;2;62;255;51mchessboard: ['..R', '..B', '?R?']\u001b[0m\u001b[38;2;62;255;51m \u001b[0m│\u001b[38;2;62;255;51m        \u001b[0m│\u001b[38;2;62;255;51m          \u001b[0m│\u001b[3;38;2;62;255;51m              \u001b[0m│\u001b[1;38;2;62;255;51m         \u001b[0m│\n",
       "│\u001b[1;4;31m \u001b[0m\u001b[1;4;31mTest 2\u001b[0m\u001b[1;4;31m \u001b[0m│\u001b[1;4;31m \u001b[0m\u001b[1;4;31mn: 3                             \u001b[0m\u001b[1;4;31m \u001b[0m│\u001b[1;4;31m \u001b[0m\u001b[1;4;31m5     \u001b[0m\u001b[1;4;31m \u001b[0m│\u001b[1;4;31m \u001b[0m\u001b[1;4;31m105     \u001b[0m\u001b[1;4;31m \u001b[0m│\u001b[1;3;4;31m \u001b[0m\u001b[1;3;4;31m  0.001ms   \u001b[0m\u001b[1;3;4;31m \u001b[0m│\u001b[1;4;31m \u001b[0m\u001b[1;4;31m Wrong \u001b[0m\u001b[1;4;31m \u001b[0m│\n",
       "│\u001b[1;4;31m        \u001b[0m│\u001b[1;4;31m \u001b[0m\u001b[1;4;31mm: 3                             \u001b[0m\u001b[1;4;31m \u001b[0m│\u001b[1;4;31m        \u001b[0m│\u001b[1;4;31m          \u001b[0m│\u001b[1;3;4;31m              \u001b[0m│\u001b[1;4;31m         \u001b[0m│\n",
       "│\u001b[1;4;31m        \u001b[0m│\u001b[1;4;31m \u001b[0m\u001b[1;4;31mchessboard: ['?R?', 'B?B', '?R?']\u001b[0m\u001b[1;4;31m \u001b[0m│\u001b[1;4;31m        \u001b[0m│\u001b[1;4;31m          \u001b[0m│\u001b[1;3;4;31m              \u001b[0m│\u001b[1;4;31m         \u001b[0m│\n",
       "└────────┴───────────────────────────────────┴────────┴──────────┴──────────────┴─────────┘\n"
      ]
     },
     "metadata": {},
     "output_type": "display_data"
    }
   ],
   "source": [
    "# @lc code=start\n",
    "# leetcode submit region begin(Prohibit modification and deletion)\n",
    "\n",
    "class Solution:\n",
    "    def getSchemeCount(self, n: int, m: int, chessboard: List[str]) -> int:\n",
    "        return 5\n",
    "\n",
    "\n",
    "# leetcode submit region end(Prohibit modification and deletion)\n",
    "# @lc code=end\n",
    "\n",
    "if __name__ == \"__main__\":\n",
    "    TestObj = StartTest(question_content, Solution)\n",
    "    TestObj.run_test()"
   ]
  },
  {
   "cell_type": "code",
   "execution_count": 9,
   "metadata": {
    "ExecuteTime": {
     "end_time": "2023-04-22T11:31:51.483536Z",
     "start_time": "2023-04-22T11:31:49.360835Z"
    }
   },
   "outputs": [
    {
     "name": "stdout",
     "output_type": "stream",
     "text": [
      "Looking in indexes: https://pypi.tuna.tsinghua.edu.cn/simple/\n",
      "Collecting autopep8\n",
      "  Downloading https://pypi.tuna.tsinghua.edu.cn/packages/3c/24/4eadb64c81c10b354b0c2b6a54a3542c3ce112954cc4effff038beafb009/autopep8-2.0.2-py2.py3-none-any.whl (45 kB)\n",
      "Collecting pycodestyle>=2.10.0\n",
      "  Downloading https://pypi.tuna.tsinghua.edu.cn/packages/a2/54/001fdc0d69e8d0bb86c3423a6fa6dfada8cc26317c2635ab543e9ac411bd/pycodestyle-2.10.0-py2.py3-none-any.whl (41 kB)\n",
      "Collecting tomli\n",
      "  Downloading https://pypi.tuna.tsinghua.edu.cn/packages/97/75/10a9ebee3fd790d20926a90a2547f0bf78f371b2f13aa822c759680ca7b9/tomli-2.0.1-py3-none-any.whl (12 kB)\n",
      "Installing collected packages: tomli, pycodestyle, autopep8\n",
      "Successfully installed autopep8-2.0.2 pycodestyle-2.10.0 tomli-2.0.1\n"
     ]
    },
    {
     "name": "stderr",
     "output_type": "stream",
     "text": [
      "WARNING: You are using pip version 21.3.1; however, version 23.1 is available.\n",
      "You should consider upgrading via the 'D:\\Program Files\\Python\\envs\\leetcode\\Scripts\\python.exe -m pip install --upgrade pip' command.\n"
     ]
    }
   ],
   "source": [
    "\n",
    "!pip install autopep8"
   ]
  }
 ],
 "metadata": {
  "kernelspec": {
   "display_name": "Python 3 (ipykernel)",
   "language": "python",
   "name": "python3"
  },
  "language_info": {
   "codemirror_mode": {
    "name": "ipython",
    "version": 3
   },
   "file_extension": ".py",
   "mimetype": "text/x-python",
   "name": "python",
   "nbconvert_exporter": "python",
   "pygments_lexer": "ipython3",
   "version": "3.9.2"
  },
  "toc": {
   "base_numbering": 1,
   "nav_menu": {},
   "number_sections": true,
   "sideBar": true,
   "skip_h1_title": false,
   "title_cell": "Table of Contents",
   "title_sidebar": "Contents",
   "toc_cell": false,
   "toc_position": {},
   "toc_section_display": true,
   "toc_window_display": true
  },
  "varInspector": {
   "cols": {
    "lenName": 16,
    "lenType": 16,
    "lenVar": 40
   },
   "kernels_config": {
    "python": {
     "delete_cmd_postfix": "",
     "delete_cmd_prefix": "del ",
     "library": "var_list.py",
     "varRefreshCmd": "print(var_dic_list())"
    },
    "r": {
     "delete_cmd_postfix": ") ",
     "delete_cmd_prefix": "rm(",
     "library": "var_list.r",
     "varRefreshCmd": "cat(var_dic_list()) "
    }
   },
   "position": {
    "height": "621.85px",
    "left": "1661.2px",
    "right": "20px",
    "top": "120px",
    "width": "350px"
   },
   "types_to_exclude": [
    "module",
    "function",
    "builtin_function_or_method",
    "instance",
    "_Feature"
   ],
   "window_display": true
  }
 },
 "nbformat": 4,
 "nbformat_minor": 1
}
