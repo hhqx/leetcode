{
 "cells": [
  {
   "cell_type": "markdown",
   "metadata": {},
   "source": [
    "示例1：\n",
    "输入：n = 3, m = 3, chessboard = [\"..R\",\"..B\",\"?R?\"]\n",
    "输出：5\n",
    "解释：给定的棋盘如图：\n",
    "![image1.png](https://pic.leetcode.cn/1681714583-unbRox-image.png)\n",
    "所有符合题意的最终局面如图：\n",
    "![image2.png](https://pic.leetcode.cn/1681714596-beaOHK-image.png)"
   ]
  },
  {
   "cell_type": "code",
   "execution_count": 2,
   "metadata": {},
   "outputs": [],
   "source": [
    "question_content = \"\"\"\n",
    "5. 魔法棋盘\n",
    "通过的用户数72\n",
    "尝试过的用户数169\n",
    "用户总通过次数76\n",
    "用户总提交次数451\n",
    "题目难度Hard\n",
    "在大小为 n * m 的棋盘中，有两种不同的棋子：黑色，红色。当两颗颜色不同的棋子同时满足以下两种情况时，将会产生魔法共鸣：\n",
    "\n",
    "两颗异色棋子在同一行或者同一列\n",
    "两颗异色棋子之间恰好只有一颗棋子\n",
    "由于棋盘上被施加了魔法禁制，棋盘上的部分格子变成问号。chessboard[i][j] 表示棋盘第 i 行 j 列的状态：\n",
    "\n",
    "若为 . ，表示当前格子确定为空\n",
    "若为 B ，表示当前格子确定为 黑棋\n",
    "若为 R ，表示当前格子确定为 红棋\n",
    "若为 ? ，表示当前格子待定\n",
    "现在，探险家小扣的任务是确定所有问号位置的状态（留空/放黑棋/放红棋），使最终的棋盘上，任意两颗棋子间都 无法 产生共鸣。请返回可以满足上述条件的放置方案数量。\n",
    "\n",
    "示例1：\n",
    "\n",
    "输入：n = 3, m = 3, chessboard = [\"..R\",\"..B\",\"?R?\"]\n",
    "\n",
    "输出：5\n",
    "\n",
    "解释：给定的棋盘如图：\n",
    "image.png\n",
    "所有符合题意的最终局面如图：\n",
    "image.png\n",
    "\n",
    "示例2：\n",
    "\n",
    "输入：n = 3, m = 3, chessboard = [\"?R?\",\"B?B\",\"?R?\"]\n",
    "\n",
    "输出：105\n",
    "\n",
    "提示：\n",
    "\n",
    "n == chessboard.length\n",
    "m == chessboard[i].length\n",
    "1 <= n*m <= 30\n",
    "chessboard 中仅包含 \".\"、\"B\"、\"R\"、\"?\"\n",
    "\"\"\"\n",
    "\n",
    "from typing import *\n",
    "from PythonLeetcodeRunner import *\n",
    "\n"
   ]
  },
  {
   "cell_type": "code",
   "execution_count": 3,
   "outputs": [
    {
     "ename": "IndexError",
     "evalue": "list index out of range",
     "output_type": "error",
     "traceback": [
      "\u001B[1;31m---------------------------------------------------------------------------\u001B[0m",
      "\u001B[1;31mIndexError\u001B[0m                                Traceback (most recent call last)",
      "Cell \u001B[1;32mIn[3], line 63\u001B[0m\n\u001B[0;32m     61\u001B[0m \u001B[38;5;28;01mif\u001B[39;00m \u001B[38;5;18m__name__\u001B[39m \u001B[38;5;241m==\u001B[39m \u001B[38;5;124m\"\u001B[39m\u001B[38;5;124m__main__\u001B[39m\u001B[38;5;124m\"\u001B[39m:\n\u001B[0;32m     62\u001B[0m     TestObj \u001B[38;5;241m=\u001B[39m StartTest(question_content, Solution)\n\u001B[1;32m---> 63\u001B[0m     \u001B[43mTestObj\u001B[49m\u001B[38;5;241;43m.\u001B[39;49m\u001B[43mrun_test\u001B[49m\u001B[43m(\u001B[49m\u001B[43m)\u001B[49m\n",
      "File \u001B[1;32mE:\\MyProjects\\github\\leetcode\\PythonLeetcodeRunner\\PythonLeetcodeRunner\\RunLeetCodeInPycharm.py:284\u001B[0m, in \u001B[0;36mStartTest.run_test\u001B[1;34m(self)\u001B[0m\n\u001B[0;32m    282\u001B[0m \u001B[38;5;66;03m# Call the Entry Function Handle to Run the Test\u001B[39;00m\n\u001B[0;32m    283\u001B[0m \u001B[38;5;28;01mif\u001B[39;00m \u001B[38;5;124m'\u001B[39m\u001B[38;5;124minput_1\u001B[39m\u001B[38;5;124m'\u001B[39m \u001B[38;5;129;01mnot\u001B[39;00m \u001B[38;5;129;01min\u001B[39;00m kwargs \u001B[38;5;129;01mor\u001B[39;00m (\u001B[38;5;124m'\u001B[39m\u001B[38;5;124misDesignedClass\u001B[39m\u001B[38;5;124m'\u001B[39m \u001B[38;5;129;01min\u001B[39;00m \u001B[38;5;28mself\u001B[39m\u001B[38;5;241m.\u001B[39mconfig \u001B[38;5;129;01mand\u001B[39;00m \u001B[38;5;28mself\u001B[39m\u001B[38;5;241m.\u001B[39mconfig[\u001B[38;5;124m'\u001B[39m\u001B[38;5;124misDesignedClass\u001B[39m\u001B[38;5;124m'\u001B[39m]):\n\u001B[1;32m--> 284\u001B[0m     my_out \u001B[38;5;241m=\u001B[39m \u001B[38;5;28mself\u001B[39m\u001B[38;5;241m.\u001B[39mSolutionEntryHandle(\u001B[38;5;241m*\u001B[39m\u001B[38;5;241m*\u001B[39mkwargs)\n\u001B[0;32m    285\u001B[0m \u001B[38;5;28;01melse\u001B[39;00m:\n\u001B[0;32m    286\u001B[0m     my_out \u001B[38;5;241m=\u001B[39m \u001B[38;5;28mself\u001B[39m\u001B[38;5;241m.\u001B[39mSolutionEntryHandle(\u001B[38;5;241m*\u001B[39m\u001B[38;5;28mlist\u001B[39m(kwargs\u001B[38;5;241m.\u001B[39mvalues()))\n",
      "Cell \u001B[1;32mIn[3], line 53\u001B[0m, in \u001B[0;36mSolution.getSchemeCount\u001B[1;34m(self, n, m, chessboard)\u001B[0m\n\u001B[0;32m     50\u001B[0m     chessboard[i][j] \u001B[38;5;241m=\u001B[39m \u001B[38;5;124m'\u001B[39m\u001B[38;5;124m?\u001B[39m\u001B[38;5;124m'\u001B[39m\n\u001B[0;32m     51\u001B[0m     \u001B[38;5;28;01mreturn\u001B[39;00m r\n\u001B[1;32m---> 53\u001B[0m ans \u001B[38;5;241m=\u001B[39m \u001B[43mdfs\u001B[49m\u001B[43m(\u001B[49m\u001B[38;5;241;43m0\u001B[39;49m\u001B[43m,\u001B[49m\u001B[43m \u001B[49m\u001B[38;5;241;43m0\u001B[39;49m\u001B[43m)\u001B[49m\n\u001B[0;32m     55\u001B[0m \u001B[38;5;28;01mreturn\u001B[39;00m ans\n",
      "Cell \u001B[1;32mIn[3], line 43\u001B[0m, in \u001B[0;36mSolution.getSchemeCount.<locals>.dfs\u001B[1;34m(i, j)\u001B[0m\n\u001B[0;32m     39\u001B[0m     \u001B[38;5;28;01mreturn\u001B[39;00m \u001B[38;5;241m1\u001B[39m\n\u001B[0;32m     41\u001B[0m \u001B[38;5;28;01massert\u001B[39;00m chessboard[i][j] \u001B[38;5;241m==\u001B[39m \u001B[38;5;124m'\u001B[39m\u001B[38;5;124m?\u001B[39m\u001B[38;5;124m'\u001B[39m, \u001B[38;5;124m\"\u001B[39m\u001B[38;5;124m\"\u001B[39m\n\u001B[1;32m---> 43\u001B[0m neri, nerj \u001B[38;5;241m=\u001B[39m \u001B[43mget_neighbor\u001B[49m\u001B[43m(\u001B[49m\u001B[43mi\u001B[49m\u001B[43m,\u001B[49m\u001B[43m \u001B[49m\u001B[43mj\u001B[49m\u001B[43m)\u001B[49m\n\u001B[0;32m     44\u001B[0m r \u001B[38;5;241m=\u001B[39m \u001B[38;5;241m0\u001B[39m\n\u001B[0;32m     45\u001B[0m \u001B[38;5;28;01mfor\u001B[39;00m c \u001B[38;5;129;01min\u001B[39;00m \u001B[38;5;124m\"\u001B[39m\u001B[38;5;124mSR\u001B[39m\u001B[38;5;124m\"\u001B[39m:\n",
      "Cell \u001B[1;32mIn[3], line 21\u001B[0m, in \u001B[0;36mSolution.getSchemeCount.<locals>.get_neighbor\u001B[1;34m(i_, j_)\u001B[0m\n\u001B[0;32m     19\u001B[0m \u001B[38;5;28;01mdef\u001B[39;00m \u001B[38;5;21mget_neighbor\u001B[39m(i_, j_):\n\u001B[0;32m     20\u001B[0m     i0, j0 \u001B[38;5;241m=\u001B[39m row2idx[i_], col2idx[j_],\n\u001B[1;32m---> 21\u001B[0m     posi \u001B[38;5;241m=\u001B[39m [[i_, rows[row2idx[i]]] \u001B[38;5;28;01mfor\u001B[39;00m i \u001B[38;5;129;01min\u001B[39;00m \u001B[38;5;28mrange\u001B[39m(i0\u001B[38;5;241m-\u001B[39m\u001B[38;5;241m2\u001B[39m, i0\u001B[38;5;241m+\u001B[39m\u001B[38;5;241m2\u001B[39m\u001B[38;5;241m+\u001B[39m\u001B[38;5;241m1\u001B[39m) \u001B[38;5;28;01mif\u001B[39;00m \u001B[38;5;241m0\u001B[39m \u001B[38;5;241m<\u001B[39m\u001B[38;5;241m=\u001B[39m i \u001B[38;5;241m<\u001B[39m \u001B[38;5;28mlen\u001B[39m(row2idx)]\n\u001B[0;32m     22\u001B[0m     posj \u001B[38;5;241m=\u001B[39m [[j_, cols[col2idx[j]]] \u001B[38;5;28;01mfor\u001B[39;00m j \u001B[38;5;129;01min\u001B[39;00m \u001B[38;5;28mrange\u001B[39m(j0\u001B[38;5;241m-\u001B[39m\u001B[38;5;241m2\u001B[39m, j0\u001B[38;5;241m+\u001B[39m\u001B[38;5;241m2\u001B[39m\u001B[38;5;241m+\u001B[39m\u001B[38;5;241m1\u001B[39m) \u001B[38;5;28;01mif\u001B[39;00m \u001B[38;5;241m0\u001B[39m \u001B[38;5;241m<\u001B[39m\u001B[38;5;241m=\u001B[39m j \u001B[38;5;241m<\u001B[39m \u001B[38;5;28mlen\u001B[39m(col2idx)]\n\u001B[0;32m     23\u001B[0m     \u001B[38;5;28;01mreturn\u001B[39;00m posi, posj\n",
      "Cell \u001B[1;32mIn[3], line 21\u001B[0m, in \u001B[0;36m<listcomp>\u001B[1;34m(.0)\u001B[0m\n\u001B[0;32m     19\u001B[0m \u001B[38;5;28;01mdef\u001B[39;00m \u001B[38;5;21mget_neighbor\u001B[39m(i_, j_):\n\u001B[0;32m     20\u001B[0m     i0, j0 \u001B[38;5;241m=\u001B[39m row2idx[i_], col2idx[j_],\n\u001B[1;32m---> 21\u001B[0m     posi \u001B[38;5;241m=\u001B[39m [[i_, \u001B[43mrows\u001B[49m\u001B[43m[\u001B[49m\u001B[43mrow2idx\u001B[49m\u001B[43m[\u001B[49m\u001B[43mi\u001B[49m\u001B[43m]\u001B[49m\u001B[43m]\u001B[49m] \u001B[38;5;28;01mfor\u001B[39;00m i \u001B[38;5;129;01min\u001B[39;00m \u001B[38;5;28mrange\u001B[39m(i0\u001B[38;5;241m-\u001B[39m\u001B[38;5;241m2\u001B[39m, i0\u001B[38;5;241m+\u001B[39m\u001B[38;5;241m2\u001B[39m\u001B[38;5;241m+\u001B[39m\u001B[38;5;241m1\u001B[39m) \u001B[38;5;28;01mif\u001B[39;00m \u001B[38;5;241m0\u001B[39m \u001B[38;5;241m<\u001B[39m\u001B[38;5;241m=\u001B[39m i \u001B[38;5;241m<\u001B[39m \u001B[38;5;28mlen\u001B[39m(row2idx)]\n\u001B[0;32m     22\u001B[0m     posj \u001B[38;5;241m=\u001B[39m [[j_, cols[col2idx[j]]] \u001B[38;5;28;01mfor\u001B[39;00m j \u001B[38;5;129;01min\u001B[39;00m \u001B[38;5;28mrange\u001B[39m(j0\u001B[38;5;241m-\u001B[39m\u001B[38;5;241m2\u001B[39m, j0\u001B[38;5;241m+\u001B[39m\u001B[38;5;241m2\u001B[39m\u001B[38;5;241m+\u001B[39m\u001B[38;5;241m1\u001B[39m) \u001B[38;5;28;01mif\u001B[39;00m \u001B[38;5;241m0\u001B[39m \u001B[38;5;241m<\u001B[39m\u001B[38;5;241m=\u001B[39m j \u001B[38;5;241m<\u001B[39m \u001B[38;5;28mlen\u001B[39m(col2idx)]\n\u001B[0;32m     23\u001B[0m     \u001B[38;5;28;01mreturn\u001B[39;00m posi, posj\n",
      "\u001B[1;31mIndexError\u001B[0m: list index out of range"
     ]
    }
   ],
   "source": [
    "# @lc code=start\n",
    "# leetcode submit region begin(Prohibit modification and deletion)\n",
    "\n",
    "class Solution:\n",
    "    def getSchemeCount(self, n: int, m: int, chessboard: List[str]) -> int:\n",
    "        # 保存所有棋子位置\n",
    "        rows = [[] for _ in range(m)]\n",
    "        cols = [[] for _ in range(n)]\n",
    "        row2idx = dict()\n",
    "        col2idx = dict()\n",
    "        for i in range(m):\n",
    "            for j in range(n):\n",
    "                if chessboard[i][j] != '.':\n",
    "                    rows[i].append(j)\n",
    "                    cols[j].append(i)\n",
    "                    row2idx[i] = len(row2idx)\n",
    "                    col2idx[j] = len(col2idx)\n",
    "\n",
    "        def get_neighbor(i_, j_):\n",
    "            i0, j0 = row2idx[i_], col2idx[j_],\n",
    "            posi = [[i_, rows[row2idx[i]]] for i in range(i0-2, i0+2+1) if 0 <= i < len(row2idx)]\n",
    "            posj = [[j_, cols[col2idx[j]]] for j in range(j0-2, j0+2+1) if 0 <= j < len(col2idx)]\n",
    "            return posi, posj\n",
    "\n",
    "        def is_valid(pos):\n",
    "            for k in range(len(pos)-2):\n",
    "                s = \"\".join(chessboard[i][j] for i, j in pos[k:k+3])\n",
    "                if s in {\"RRB\", \"RBB\", \"BBR\", \"BRR\"}:\n",
    "                    return False\n",
    "            return True\n",
    "\n",
    "        # dfs\n",
    "        def dfs(i, j):\n",
    "            i, j = i + j//n, j%n\n",
    "            while i < m and chessboard[i][j] != '?':\n",
    "                j += 1\n",
    "                i, j = i + j//n, j%n\n",
    "            if i >= m:\n",
    "                return 1\n",
    "\n",
    "            assert chessboard[i][j] == '?', \"\"\n",
    "\n",
    "            neri, nerj = get_neighbor(i, j)\n",
    "            r = 0\n",
    "            for c in \"SR\":\n",
    "                chessboard[i][j] = c\n",
    "                if is_valid(neri) and is_valid(nerj):\n",
    "                    r += dfs(i, j+1)\n",
    "\n",
    "            chessboard[i][j] = '?'\n",
    "            return r\n",
    "\n",
    "        ans = dfs(0, 0)\n",
    "\n",
    "        return ans\n",
    "\n",
    "\n",
    "# leetcode submit region end(Prohibit modification and deletion)\n",
    "# @lc code=end\n",
    "\n",
    "if __name__ == \"__main__\":\n",
    "    TestObj = StartTest(question_content, Solution)\n",
    "    TestObj.run_test()"
   ],
   "metadata": {
    "collapsed": false
   }
  },
  {
   "cell_type": "code",
   "execution_count": null,
   "outputs": [],
   "source": [
    "\n",
    "# !pip install autopep8\n",
    "\n",
    "# !pip install ipykernel==5.1.4\n"
   ],
   "metadata": {
    "collapsed": false
   }
  }
 ],
 "metadata": {
  "kernelspec": {
   "display_name": "Python 3 (ipykernel)",
   "language": "python",
   "name": "python3"
  },
  "language_info": {
   "codemirror_mode": {
    "name": "ipython",
    "version": 3
   },
   "file_extension": ".py",
   "mimetype": "text/x-python",
   "name": "python",
   "nbconvert_exporter": "python",
   "pygments_lexer": "ipython3",
   "version": "3.9.2"
  },
  "toc": {
   "base_numbering": 1,
   "nav_menu": {},
   "number_sections": true,
   "sideBar": true,
   "skip_h1_title": false,
   "title_cell": "Table of Contents",
   "title_sidebar": "Contents",
   "toc_cell": false,
   "toc_position": {},
   "toc_section_display": true,
   "toc_window_display": true
  },
  "varInspector": {
   "cols": {
    "lenName": 16,
    "lenType": 16,
    "lenVar": 40
   },
   "kernels_config": {
    "python": {
     "delete_cmd_postfix": "",
     "delete_cmd_prefix": "del ",
     "library": "var_list.py",
     "varRefreshCmd": "print(var_dic_list())"
    },
    "r": {
     "delete_cmd_postfix": ") ",
     "delete_cmd_prefix": "rm(",
     "library": "var_list.r",
     "varRefreshCmd": "cat(var_dic_list()) "
    }
   },
   "position": {
    "height": "621.85px",
    "left": "1661.2px",
    "right": "20px",
    "top": "120px",
    "width": "350px"
   },
   "types_to_exclude": [
    "module",
    "function",
    "builtin_function_or_method",
    "instance",
    "_Feature"
   ],
   "window_display": true
  }
 },
 "nbformat": 4,
 "nbformat_minor": 1
}
